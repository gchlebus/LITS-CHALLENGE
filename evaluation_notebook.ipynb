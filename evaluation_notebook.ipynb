{
 "cells": [
  {
   "cell_type": "markdown",
   "metadata": {
    "deletable": true,
    "editable": true
   },
   "source": [
    "# Evaluation script for LITS Challenge"
   ]
  },
  {
   "cell_type": "code",
   "execution_count": 3,
   "metadata": {
    "collapsed": false,
    "deletable": true,
    "editable": true
   },
   "outputs": [],
   "source": [
    "from medpy import metric\n",
    "from surface import Surface\n",
    "import glob\n",
    "import nibabel as nb\n",
    "import numpy as np\n",
    "import os"
   ]
  },
  {
   "cell_type": "code",
   "execution_count": 4,
   "metadata": {
    "collapsed": true,
    "deletable": true,
    "editable": true
   },
   "outputs": [],
   "source": [
    "def get_scores(pred,label,vxlspacing):\n",
    "\tvolscores = {}\n",
    "\n",
    "\tvolscores['dice'] = metric.dc(pred,label)\n",
    "\tvolscores['jaccard'] = metric.binary.jc(pred,label)\n",
    "\tvolscores['voe'] = 1. - volscores['jaccard']\n",
    "\tvolscores['rvd'] = metric.ravd(label,pred)\n",
    "\n",
    "\tif np.count_nonzero(pred) ==0 or np.count_nonzero(label)==0:\n",
    "\t\tvolscores['assd'] = 0\n",
    "\t\tvolscores['msd'] = 0\n",
    "\telse:\n",
    "\t\tevalsurf = Surface(pred,label,physical_voxel_spacing = vxlspacing,mask_offset = [0.,0.,0.], reference_offset = [0.,0.,0.])\n",
    "\t\tvolscores['assd'] = evalsurf.get_average_symmetric_surface_distance()\n",
    "\n",
    "\t\tvolscores['msd'] = metric.hd(label,pred,voxelspacing=vxlspacing)\n",
    "\n",
    "\treturn volscores"
   ]
  },
  {
   "cell_type": "markdown",
   "metadata": {
    "deletable": true,
    "editable": true
   },
   "source": [
    "## Load Labels and Predictions"
   ]
  },
  {
   "cell_type": "code",
   "execution_count": 11,
   "metadata": {
    "collapsed": false,
    "deletable": true,
    "editable": true
   },
   "outputs": [],
   "source": [
    "import os\n",
    "base_path = \"/Users/gchlebus/Developer/LITS-CHALLENGE/Results\"\n",
    "dir_name = \"20170214_U-net-105_bn_drop_3labels_volumes_wo_excluded_Transversal_Resample2D_1.0_1.0\"\n",
    "dir_path = os.path.join(base_path, dir_name)\n",
    "\n",
    "labels = sorted(glob.glob(dir_path+'/label*.nii'))\n",
    "probs = sorted(glob.glob(dir_path+'/probs*.nii'))"
   ]
  },
  {
   "cell_type": "markdown",
   "metadata": {
    "deletable": true,
    "editable": true
   },
   "source": [
    "# Loop through all volumes"
   ]
  },
  {
   "cell_type": "code",
   "execution_count": null,
   "metadata": {
    "collapsed": false,
    "deletable": true,
    "editable": true
   },
   "outputs": [
    {
     "name": "stdout",
     "output_type": "stream",
     "text": [
      "Liver dice 0.929757341772 Lesion dice 0.0\n"
     ]
    }
   ],
   "source": [
    "from collections import namedtuple\n",
    "results = []\n",
    "outpath = os.path.join(dir_path, \"results.csv\")\n",
    "\n",
    "Result = namedtuple(\"Result\", [\"label\", \"liver_scores\", \"lesion_scores\"])\n",
    "\n",
    "for label, prob in zip(labels,probs):\n",
    "    loaded_label = nb.load(label)\n",
    "    loaded_prob = nb.load(prob)\n",
    "    liver_scores = get_scores(loaded_prob.get_data()>=1,loaded_label.get_data()>=1,loaded_label.header.get_zooms()[:3])\n",
    "    lesion_scores = get_scores(loaded_prob.get_data()==2,loaded_label.get_data()==2,loaded_label.header.get_zooms()[:3])\n",
    "    print \"Liver dice\",liver_scores['dice'], \"Lesion dice\", lesion_scores['dice']\n",
    "    results.append(Result(label, liver_scores, lesion_scores))"
   ]
  },
  {
   "cell_type": "code",
   "execution_count": 10,
   "metadata": {
    "collapsed": true
   },
   "outputs": [],
   "source": [
    "outstr = \"\"\n",
    "for result in results:\n",
    "    #create line for csv file\n",
    "    outstr += str(result.label) + ','\n",
    "    for l in [result.liver_scores, result.lesion_scores]:\n",
    "        for k,v in l.iteritems():\n",
    "            outstr += str(v) + ','\n",
    "    outstr += '\\n'\n",
    "            \n",
    "headerstr = 'Volume,'\n",
    "for k,v in liver_scores.iteritems():\n",
    "    headerstr += 'Liver_' + k + ','\n",
    "for k,v in liver_scores.iteritems():\n",
    "    headerstr += 'Lesion_' + k + ','\n",
    "headerstr += '\\n'\n",
    "outstr = headerstr + outstr\n",
    "\n",
    "#write to file\n",
    "f = open(outpath, 'w')\n",
    "f.write(outstr)\n",
    "f.close()"
   ]
  },
  {
   "cell_type": "code",
   "execution_count": null,
   "metadata": {
    "collapsed": true
   },
   "outputs": [],
   "source": []
  }
 ],
 "metadata": {
  "anaconda-cloud": {},
  "kernelspec": {
   "display_name": "Python [lits]",
   "language": "python",
   "name": "Python [lits]"
  },
  "language_info": {
   "codemirror_mode": {
    "name": "ipython",
    "version": 2
   },
   "file_extension": ".py",
   "mimetype": "text/x-python",
   "name": "python",
   "nbconvert_exporter": "python",
   "pygments_lexer": "ipython2",
   "version": "2.7.13"
  }
 },
 "nbformat": 4,
 "nbformat_minor": 0
}
